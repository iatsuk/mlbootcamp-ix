{
 "cells": [
  {
   "cell_type": "code",
   "execution_count": 1,
   "metadata": {},
   "outputs": [],
   "source": [
    "import numpy as np\n",
    "import pandas as pd\n",
    "import matplotlib.pyplot as plt\n",
    "import seaborn as sns\n",
    "from sklearn.model_selection import train_test_split\n",
    "import warnings\n",
    "warnings.filterwarnings('ignore')\n",
    "%config IPCompleter.greedy=True\n",
    "%config InlineBackend.figure_format = 'jpeg'\n",
    "%matplotlib inline\n",
    "pd.options.display.max_columns = 100"
   ]
  },
  {
   "cell_type": "code",
   "execution_count": 2,
   "metadata": {},
   "outputs": [],
   "source": [
    "def area(box):\n",
    "    return (box[2] - box[0]) * (box[3] - box[1])\n",
    "\n",
    "\n",
    "def intersection_over_union(boxes):\n",
    "    assert(len(boxes) == 8)\n",
    "    boxA = boxes[:4].values\n",
    "    boxB = boxes[4:].values\n",
    "    \n",
    "    boxAArea = area(boxA)\n",
    "    boxBArea = area(boxB)\n",
    "    \n",
    "    if (boxAArea == 0 or boxBArea == 0):\n",
    "        return 0\n",
    "        \n",
    "    xA = max(boxA[0], boxB[0])\n",
    "    yA = max(boxA[1], boxB[1])\n",
    "    xB = min(boxA[2], boxB[2])\n",
    "    yB = min(boxA[3], boxB[3])\n",
    "\n",
    "    interArea = max(0, xB - xA) * max(0, yB - yA)\n",
    "\n",
    "    \n",
    "    iou = interArea / float(boxAArea + boxBArea - interArea)\n",
    "    return iou"
   ]
  },
  {
   "cell_type": "markdown",
   "metadata": {},
   "source": [
    "## Импорт данных"
   ]
  },
  {
   "cell_type": "code",
   "execution_count": 10,
   "metadata": {},
   "outputs": [],
   "source": [
    "votes = pd.read_csv(\"train_data.csv\")\n",
    "cols = ['Xmin', 'Ymin', 'Xmax', 'Ymax']"
   ]
  },
  {
   "cell_type": "code",
   "execution_count": 4,
   "metadata": {},
   "outputs": [],
   "source": [
    "answers = pd.read_csv(\"train_answers.csv\")"
   ]
  },
  {
   "cell_type": "markdown",
   "metadata": {},
   "source": [
    "# Коррекция данных"
   ]
  },
  {
   "cell_type": "markdown",
   "metadata": {},
   "source": [
    "## Коррекция выбросов по интерквартильному размаху"
   ]
  },
  {
   "cell_type": "code",
   "execution_count": 5,
   "metadata": {},
   "outputs": [],
   "source": [
    "def iqr(qr1, qr3):\n",
    "    return (qr3 - qr1) * 1.5"
   ]
  },
  {
   "cell_type": "code",
   "execution_count": 17,
   "metadata": {},
   "outputs": [],
   "source": [
    "def correct_by_iqr(votez):\n",
    "\n",
    "\n",
    "    def calc_iqrs(votez):\n",
    "        q1_quantiles = votez.groupby('itemId')[cols].quantile(q=[0.25]).reset_index().drop(columns=['level_1'])\n",
    "        q3_quantiles = votez.groupby('itemId')[cols].quantile(q=[0.75]).reset_index().drop(columns=['level_1'])\n",
    "        q_merged = q1_quantiles.merge(q3_quantiles, on='itemId', suffixes=('_q1', '_q3'))\n",
    "        for col in cols:\n",
    "            q_merged[col + '_iqr'] = iqr(q_merged[col + '_q1'], q_merged[col + '_q3'])\n",
    "            q_merged.drop(columns=[col + '_q1', col +'_q3'], inplace=True)\n",
    "        return q_merged\n",
    "\n",
    "\n",
    "    def calc_low_high_iqrs(votez, iqrs):\n",
    "        q2_quantiles = votez.groupby('itemId')[cols].median().reset_index()\n",
    "        q2_quantiles.columns = q2_quantiles.columns.map(lambda x: str(x) + '_median' if x != 'itemId' else x)\n",
    "        q_filter = iqrs.merge(q2_quantiles, on='itemId')\n",
    "        for col in cols:\n",
    "            q_filter[col + '_low'] = q_filter[col + '_median'] - q_filter[col + '_iqr']\n",
    "            q_filter[col + '_high'] = q_filter[col + '_median'] + q_filter[col + '_iqr']\n",
    "            q_filter.drop(columns=[col + '_iqr'], inplace=True)\n",
    "        return q_filter\n",
    "\n",
    "\n",
    "    # verify\n",
    "    imgs_before = len(votez['itemId'].unique())\n",
    "    # prepare\n",
    "    q_merged = calc_iqrs(votez)\n",
    "    q_filter = calc_low_high_iqrs(votez, q_merged)\n",
    "    votez_filtered = votez.merge(q_filter, on='itemId')\n",
    "    # fix values\n",
    "    for col in cols:\n",
    "        filter_ = lambda df: (df[col] <= df[col + '_low']) | (df[col] >= df[col + '_high'])\n",
    "        votez_filtered.loc[filter_, col] = votez_filtered.loc[filter_, col + '_median']\n",
    "        votez_filtered.drop(columns=[col + '_low', col + '_high', col + '_median'], inplace=True)\n",
    "    # verify\n",
    "    imgs_after = len(votez_filtered['itemId'].unique())\n",
    "    if (imgs_before != imgs_after):\n",
    "        raise Exception(f'imgs_before: {imgs_before}, imgs_after: {imgs_after}')\n",
    "    # return result\n",
    "    return votez_filtered"
   ]
  },
  {
   "cell_type": "markdown",
   "metadata": {},
   "source": [
    "## Коррекция выбросов по медианному IoU пользователя"
   ]
  },
  {
   "cell_type": "code",
   "execution_count": 49,
   "metadata": {},
   "outputs": [],
   "source": [
    "def calc_iou(votez, answerz):\n",
    "    df_full = votez.merge(answerz, on='itemId')\n",
    "    df_full['iou'] = df_full[['Xmin', 'Ymin', 'Xmax', 'Ymax', 'Xmin_true', 'Ymin_true', 'Xmax_true', 'Ymax_true']].apply(intersection_over_union, axis=1)\n",
    "    medians = df_full.groupby('userId')[['iou']].median().reset_index()\n",
    "    return medians"
   ]
  },
  {
   "cell_type": "code",
   "execution_count": 92,
   "metadata": {},
   "outputs": [],
   "source": [
    "def correct_by_iou(votez, userz_iou):\n",
    "    threshold = 0.1\n",
    "    # оставим только наибольшие iou в каждом itemId\n",
    "    votes_with_user_iou = votez.merge(userz_iou, on='userId', how='left')\n",
    "    votes_with_user_iou['iou'] = votes_with_user_iou['iou'].fillna(0)\n",
    "    max_iou_per_item = votes_with_user_iou.groupby('itemId')[['iou']].max().reset_index()  # находим наибольшие user_iou на каждый item\n",
    "    votes_with_user_iou_and_max_item_iou =  votes_with_user_iou.merge(max_iou_per_item, on='itemId', suffixes=['', '_max'])\n",
    "    votes_with_max__item_iou = votes_with_user_iou_and_max_item_iou.loc[lambda df: np.abs(df['iou_max'] - df['iou']) < threshold, :]  # оставляем только строки с наибольшим iou\n",
    "    votes_with_max__item_iou.drop(columns=['iou', 'iou_max'], inplace=True)\n",
    "    # находим средние\n",
    "    means = votes_with_max__item_iou.groupby('itemId')[['Xmin','Ymin', 'Xmax', 'Ymax']].mean().reset_index()\n",
    "    merged_iou_means = votes_with_user_iou.merge(means, on='itemId', suffixes=['', '_mean'])\n",
    "    fixed = merged_iou_means.copy()\n",
    "    # fix values\n",
    "    for col in cols:\n",
    "        fixed[col] = merged_iou_means[col]*merged_iou_means['iou'] + merged_iou_means[col + '_mean']*(1 - merged_iou_means['iou'])\n",
    "        fixed.drop(columns=[col + '_mean'], inplace=True)\n",
    "    fixed.drop(columns=['iou'], inplace=True)\n",
    "    return fixed"
   ]
  },
  {
   "cell_type": "markdown",
   "metadata": {},
   "source": [
    "## Коррекция corner diff per user (CDU)"
   ]
  },
  {
   "cell_type": "code",
   "execution_count": 20,
   "metadata": {},
   "outputs": [],
   "source": [
    "def calc_cdu(votez, answerz, userz_iou_model):\n",
    "    threshold = 0.3\n",
    "    df_full = votez.merge(answerz, on='itemId').merge(userz_iou_model, on='userId')\n",
    "    for col in ['Xmin','Ymin', 'Xmax', 'Ymax']:\n",
    "        df_full[col + '_diff'] = df_full[col + '_true'] / df_full[col]\n",
    "        df_full.loc[lambda df: (df[col + '_diff'] < 1 - threshold) | (df[col + '_diff'] > 1 + threshold), col + '_diff'] = 1\n",
    "    diffs = df_full.groupby('userId')[['Xmin_diff','Ymin_diff', 'Xmax_diff', 'Ymax_diff']].median().reset_index()\n",
    "    return df_full\n",
    "\n",
    "\n",
    "#calc_cdu(votes, answers, calc_iou(votes, answers))"
   ]
  },
  {
   "cell_type": "code",
   "execution_count": 298,
   "metadata": {},
   "outputs": [],
   "source": [
    "def correct_by_cdu(votez, userz_cdu):\n",
    "    merged_diff = votez.merge(userz_cdu, on='userId', how='left')\n",
    "    fixed = merged_diff.copy()\n",
    "    for col in ['Xmin','Ymin', 'Xmax', 'Ymax']:\n",
    "        merged_diff[[col + '_diff']] = merged_diff[[col + '_diff']].fillna(1)\n",
    "        fixed[col] = merged_diff[col] + merged_diff[col + '_diff']\n",
    "        fixed.drop(columns=[col + '_diff'], inplace=True)\n",
    "    return fixed"
   ]
  },
  {
   "cell_type": "markdown",
   "metadata": {},
   "source": [
    "# Расчёт метрики Intersection over Union (IoU)"
   ]
  },
  {
   "cell_type": "code",
   "execution_count": 100,
   "metadata": {},
   "outputs": [],
   "source": [
    "def fit_models(votez, answerz):\n",
    "    userz_iou = calc_iou(votez, answerz)\n",
    "    userz_cdu = calc_cdu(votez, answerz, userz_iou)\n",
    "    return userz_iou, userz_cdu\n",
    "\n",
    "\n",
    "def transform_data(votez, userz_iou_model, userz_cdu_model):\n",
    "    prepared = correct_by_iqr(votez.copy())\n",
    "    #prepared = correct_by_cdu(votez.copy(), userz_cdu_model)\n",
    "    prepared = correct_by_iou(prepared.copy(), userz_iou_model)\n",
    "    return prepared"
   ]
  },
  {
   "cell_type": "code",
   "execution_count": 101,
   "metadata": {},
   "outputs": [],
   "source": [
    "# data split on train and test datasets\n",
    "train_answers, test_answers = train_test_split(answers, test_size=0.25, random_state=42)\n",
    "train_votes = votes.merge(train_answers[[\"itemId\"]], on='itemId')\n",
    "test_votes = votes.merge(test_answers[[\"itemId\"]], on='itemId')\n",
    "users_iou_model, users_cdu_model = fit_models(train_votes, train_answers)"
   ]
  },
  {
   "cell_type": "code",
   "execution_count": 102,
   "metadata": {},
   "outputs": [],
   "source": [
    "train_transformed = transform_data(train_votes, users_iou_model, users_cdu_model)\n",
    "test_transformed = transform_data(test_votes, users_iou_model, users_cdu_model)"
   ]
  },
  {
   "cell_type": "code",
   "execution_count": 103,
   "metadata": {},
   "outputs": [],
   "source": [
    "train_quorum = train_transformed.groupby(\"itemId\")[['Xmin','Ymin', 'Xmax', 'Ymax']].mean().reset_index()\n",
    "test_quorum = test_transformed.groupby(\"itemId\")[['Xmin','Ymin', 'Xmax', 'Ymax']].mean().reset_index()"
   ]
  },
  {
   "cell_type": "code",
   "execution_count": 104,
   "metadata": {},
   "outputs": [],
   "source": [
    "train_data = train_quorum.merge(train_answers, on=[\"itemId\"])\n",
    "test_data = test_quorum.merge(test_answers, on=[\"itemId\"])"
   ]
  },
  {
   "cell_type": "code",
   "execution_count": 105,
   "metadata": {},
   "outputs": [],
   "source": [
    "train_data[\"iou\"] = train_data[['Xmin','Ymin', 'Xmax', 'Ymax', 'Xmin_true', 'Ymin_true', 'Xmax_true','Ymax_true']].apply(intersection_over_union, axis=1)\n",
    "test_data[\"iou\"] = test_data[['Xmin','Ymin', 'Xmax', 'Ymax', 'Xmin_true', 'Ymin_true', 'Xmax_true','Ymax_true']].apply(intersection_over_union, axis=1)"
   ]
  },
  {
   "cell_type": "code",
   "execution_count": 106,
   "metadata": {},
   "outputs": [
    {
     "name": "stdout",
     "output_type": "stream",
     "text": [
      "0.5372553930485575|0.5178115156035272\n"
     ]
    }
   ],
   "source": [
    "print(str(train_data[\"iou\"].mean()) + '|' + str(test_data[\"iou\"].mean()))"
   ]
  },
  {
   "cell_type": "markdown",
   "metadata": {},
   "source": [
    "## История изменений\n",
    "| Train            | Test             | How               |\n",
    "|------------------|------------------|-------------------|\n",
    "|0.5430922962075330|0.5169763275452912| IQR -> CDU -> IOU |\n",
    "|0.5372553930485575|0.5178115156035272| IQR -> IOU        |\n",
    "|0.5519478651834866|0.5098729733114180| IOU               |\n",
    "|0.5124386740459799|0.5108938312166782| IQR               |\n",
    "|0.5077808282151023|0.5001559177275294|                   |"
   ]
  },
  {
   "cell_type": "markdown",
   "metadata": {},
   "source": [
    "# Экспорт тестовых данных"
   ]
  },
  {
   "cell_type": "code",
   "execution_count": 107,
   "metadata": {},
   "outputs": [],
   "source": [
    "votes_test = pd.read_csv(\"test_data.csv\")\n",
    "users_iou_model, users_cdu_model = fit_models(votes, answers)\n",
    "votes_quorum = transform_data(votes_test, users_iou_model, users_cdu_model).groupby(\"itemId\")[['Xmin','Ymin', 'Xmax', 'Ymax']].mean().reset_index()  #.round().astype(int)\n",
    "votes_quorum.columns = ['itemId', 'Xmin_true', 'Ymin_true', 'Xmax_true','Ymax_true']\n",
    "votes_quorum.to_csv('AIatsuk_predictions.csv', index=False, header=None)"
   ]
  }
 ],
 "metadata": {
  "kernelspec": {
   "display_name": "Python 3",
   "language": "python",
   "name": "python3"
  },
  "language_info": {
   "codemirror_mode": {
    "name": "ipython",
    "version": 3
   },
   "file_extension": ".py",
   "mimetype": "text/x-python",
   "name": "python",
   "nbconvert_exporter": "python",
   "pygments_lexer": "ipython3",
   "version": "3.7.3"
  }
 },
 "nbformat": 4,
 "nbformat_minor": 2
}
