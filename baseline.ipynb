{
 "cells": [
  {
   "cell_type": "code",
   "execution_count": 56,
   "metadata": {},
   "outputs": [],
   "source": [
    "import numpy as np\n",
    "import pandas as pdinline\n",
    "import matplotlib.pyplot as plt\n",
    "import seaborn as sns\n",
    "from sklearn.model_selection import train_test_split\n",
    "import warnings\n",
    "warnings.filterwarnings('ignore')\n",
    "%config IPCompleter.greedy=True\n",
    "%config InlineBackend.figure_format = 'jpeg'\n",
    "%matplotlib inline\n",
    "pd.options.display.max_columns = 100"
   ]
  },
  {
   "cell_type": "code",
   "execution_count": 2,
   "metadata": {},
   "outputs": [],
   "source": [
    "def area(box):\n",
    "    return (box[2] - box[0]) * (box[3] - box[1])\n",
    "\n",
    "\n",
    "def intersection_over_union(boxes):\n",
    "    assert(len(boxes) == 8)\n",
    "    boxA = boxes[:4].values\n",
    "    boxB = boxes[4:].values\n",
    "    \n",
    "    boxAArea = area(boxA)\n",
    "    boxBArea = area(boxB)\n",
    "    \n",
    "    if (boxAArea == 0 or boxBArea == 0):\n",
    "        return 0\n",
    "        \n",
    "    xA = max(boxA[0], boxB[0])\n",
    "    yA = max(boxA[1], boxB[1])\n",
    "    xB = min(boxA[2], boxB[2])\n",
    "    yB = min(boxA[3], boxB[3])\n",
    "\n",
    "    interArea = max(0, xB - xA) * max(0, yB - yA)\n",
    "\n",
    "    \n",
    "    iou = interArea / float(boxAArea + boxBArea - interArea)\n",
    "    return iou"
   ]
  },
  {
   "cell_type": "markdown",
   "metadata": {},
   "source": [
    "## Импорт данных"
   ]
  },
  {
   "cell_type": "code",
   "execution_count": 88,
   "metadata": {},
   "outputs": [],
   "source": [
    "votes = pd.read_csv(\"train_data.csv\")"
   ]
  },
  {
   "cell_type": "code",
   "execution_count": 89,
   "metadata": {},
   "outputs": [],
   "source": [
    "answers = pd.read_csv(\"train_answers.csv\")"
   ]
  },
  {
   "cell_type": "markdown",
   "metadata": {},
   "source": [
    "## IoU пользователя"
   ]
  },
  {
   "cell_type": "code",
   "execution_count": 90,
   "metadata": {},
   "outputs": [],
   "source": [
    "def calc_user_iou(votez, answerz):\n",
    "    df_full = votes.merge(answers, on=[\"itemId\"])\n",
    "    df_full[\"iou\"] = df_full[['Xmin','Ymin', 'Xmax', 'Ymax', 'Xmin_true',\\\n",
    "          'Ymin_true', 'Xmax_true','Ymax_true']].apply(intersection_over_union, axis=1)\n",
    "    medians = df_full[['userId', 'itemId', 'iou']].groupby('userId')[['iou']].median().reset_index()\n",
    "    medians.columns = [['userId', 'user_iou']]\n",
    "    return medians\n",
    "\n",
    "\n",
    "df_user_iou = calc_user_iou(votes, answers)"
   ]
  },
  {
   "cell_type": "markdown",
   "metadata": {},
   "source": [
    "## Фильтрация выбросов по интерквартильному размаху"
   ]
  },
  {
   "cell_type": "code",
   "execution_count": 43,
   "metadata": {},
   "outputs": [],
   "source": [
    "def iqr(qr1, qr3):\n",
    "    return (qr3 - qr1) * 1.5"
   ]
  },
  {
   "cell_type": "code",
   "execution_count": 93,
   "metadata": {},
   "outputs": [
    {
     "data": {
      "text/plain": [
       "Index(['itemId', 'Xmin_iqr', 'Ymin_iqr', 'Xmax_iqr', 'Ymax_iqr'], dtype='object')"
      ]
     },
     "execution_count": 93,
     "metadata": {},
     "output_type": "execute_result"
    }
   ],
   "source": [
    "def calc_iqrs(votez):\n",
    "    q1_quantiles = votez.groupby('itemId')[['Xmin', 'Ymin', 'Xmax', 'Ymax']].quantile(q=[0.25]).reset_index().drop(columns=['level_1'])\n",
    "    q3_quantiles = votez.groupby('itemId')[['Xmin', 'Ymin', 'Xmax', 'Ymax']].quantile(q=[0.75]).reset_index().drop(columns=['level_1'])\n",
    "    q_merged = q1_quantiles.merge(q3_quantiles, on='itemId', suffixes=('_q1', '_q3'))\n",
    "    q_merged['Xmin_iqr'] = iqr(q_merged['Xmin_q1'], q_merged['Xmin_q3'])\n",
    "    q_merged['Ymin_iqr'] = iqr(q_merged['Ymin_q1'], q_merged['Ymin_q3'])\n",
    "    q_merged['Xmax_iqr'] = iqr(q_merged['Xmax_q1'], q_merged['Xmax_q3'])\n",
    "    q_merged['Ymax_iqr'] = iqr(q_merged['Ymax_q1'], q_merged['Ymax_q3'])\n",
    "    q_merged = q_merged.drop(columns=['Xmin_q1', 'Ymin_q1', 'Xmax_q1', 'Ymax_q1', 'Xmin_q3', 'Ymin_q3', 'Xmax_q3', 'Ymax_q3'])\n",
    "    return q_merged\n",
    "\n",
    "\n",
    "calc_iqrs(votes).columns"
   ]
  },
  {
   "cell_type": "code",
   "execution_count": 94,
   "metadata": {},
   "outputs": [
    {
     "data": {
      "text/plain": [
       "Index(['itemId', 'Xmin_median', 'Ymin_median', 'Xmax_median', 'Ymax_median',\n",
       "       'Xmin_low', 'Ymin_low', 'Xmax_low', 'Ymax_low', 'Xmin_high',\n",
       "       'Ymin_high', 'Xmax_high', 'Ymax_high'],\n",
       "      dtype='object')"
      ]
     },
     "execution_count": 94,
     "metadata": {},
     "output_type": "execute_result"
    }
   ],
   "source": [
    "def calc_low_high_iqrs(votez, iqrs):\n",
    "    q2_quantiles = votez.groupby('itemId')[['Xmin', 'Ymin', 'Xmax', 'Ymax']].median().reset_index()\n",
    "    q2_quantiles.columns = q2_quantiles.columns.map(lambda x: str(x) + '_median' if x != 'itemId' else x)\n",
    "    q_filter = iqrs.merge(q2_quantiles, on='itemId')\n",
    "    q_filter['Xmin_low'] = q_filter['Xmin_median'] - q_filter['Xmin_iqr']\n",
    "    q_filter['Ymin_low'] = q_filter['Ymin_median'] - q_filter['Ymin_iqr']\n",
    "    q_filter['Xmax_low'] = q_filter['Xmax_median'] - q_filter['Xmax_iqr']\n",
    "    q_filter['Ymax_low'] = q_filter['Ymax_median'] - q_filter['Ymax_iqr']\n",
    "    q_filter['Xmin_high'] = q_filter['Xmin_median'] + q_filter['Xmin_iqr']\n",
    "    q_filter['Ymin_high'] = q_filter['Ymin_median'] + q_filter['Ymin_iqr']\n",
    "    q_filter['Xmax_high'] = q_filter['Xmax_median'] + q_filter['Xmax_iqr']\n",
    "    q_filter['Ymax_high'] = q_filter['Ymax_median'] + q_filter['Ymax_iqr']\n",
    "    q_filter = q_filter.drop(columns=['Xmin_iqr', 'Ymin_iqr', 'Xmax_iqr', 'Ymax_iqr'])\n",
    "    return q_filter\n",
    "\n",
    "\n",
    "calc_low_high_iqrs(votes, calc_iqrs(votes)).columns"
   ]
  },
  {
   "cell_type": "code",
   "execution_count": 8,
   "metadata": {},
   "outputs": [],
   "source": [
    "def filter_by_iqr(votez):\n",
    "    # verify\n",
    "    imgs_before = len(votez['itemId'].unique())\n",
    "    # prepare\n",
    "    q_merged = calc_iqrs(votez)\n",
    "    q_filter = calc_low_high_iqrs(votez, q_merged)\n",
    "    votez_filtered = votez.merge(q_filter, on='itemId')\n",
    "    # fix Xmin\n",
    "    filter_Xmin = lambda df: (df['Xmin'] <= df['Xmin_low']) | (df['Xmin'] >= df['Xmin_high'])\n",
    "    votez_filtered.loc[filter_Xmin, 'Xmin'] = votez_filtered.loc[filter_Xmin, 'Xmin_median']\n",
    "    # fix Ymin\n",
    "    filter_Ymin = lambda df: (df['Ymin'] <= df['Ymin_low']) | (df['Ymin'] >= df['Ymin_high'])\n",
    "    votez_filtered.loc[filter_Ymin, 'Ymin'] = votez_filtered.loc[filter_Ymin, 'Ymin_median']\n",
    "    # fix Xmax\n",
    "    filter_Xmax = lambda df: (df['Xmax'] <= df['Xmax_low']) | (df['Xmax'] >= df['Xmax_high'])\n",
    "    votez_filtered.loc[filter_Xmax, 'Xmax'] = votez_filtered.loc[filter_Xmax, 'Xmax_median']\n",
    "    # fix Ymax\n",
    "    filter_Ymax = lambda df: (df['Ymax'] <= df['Ymax_low']) | (df['Ymax'] >= df['Ymax_high'])\n",
    "    votez_filtered.loc[filter_Xmin, 'Ymax'] = votez_filtered.loc[filter_Xmin, 'Ymax_median']\n",
    "    # drop unecessary columns\n",
    "    votez_filtered = votez_filtered.drop(columns=[\n",
    "        'Xmin_low', 'Ymin_low', 'Xmax_low', 'Ymax_low', \n",
    "        'Xmin_high', 'Ymin_high', 'Xmax_high', 'Ymax_high',\n",
    "        'Xmin_median', 'Ymin_median', 'Xmax_median', 'Ymax_median'\n",
    "    ])\n",
    "    # verify\n",
    "    imgs_after = len(votez_filtered['itemId'].unique())\n",
    "    if (imgs_before != imgs_after):\n",
    "        raise Exception(f'imgs_before: {imgs_before}, imgs_after: {imgs_after}')\n",
    "    # return result\n",
    "    return votez_filtered"
   ]
  },
  {
   "cell_type": "markdown",
   "metadata": {},
   "source": [
    "## Расчёт метрики Intersection over Union (IoU)"
   ]
  },
  {
   "cell_type": "code",
   "execution_count": 44,
   "metadata": {},
   "outputs": [],
   "source": [
    "quorum = filter_by_iqr(votes).groupby(\"itemId\")[['Xmin','Ymin', 'Xmax', 'Ymax']].mean().reset_index()"
   ]
  },
  {
   "cell_type": "code",
   "execution_count": 45,
   "metadata": {},
   "outputs": [],
   "source": [
    "data = quorum.merge(answers, on=[\"itemId\"])"
   ]
  },
  {
   "cell_type": "code",
   "execution_count": 46,
   "metadata": {},
   "outputs": [],
   "source": [
    "data[\"iou\"] = data[['Xmin','Ymin', 'Xmax', 'Ymax', 'Xmin_true',\\\n",
    "      'Ymin_true', 'Xmax_true','Ymax_true']].apply(intersection_over_union, axis=1)"
   ]
  },
  {
   "cell_type": "code",
   "execution_count": 47,
   "metadata": {},
   "outputs": [
    {
     "data": {
      "text/plain": [
       "0.5120520537832914"
      ]
     },
     "execution_count": 47,
     "metadata": {},
     "output_type": "execute_result"
    }
   ],
   "source": [
    "data[\"iou\"].mean()"
   ]
  },
  {
   "cell_type": "markdown",
   "metadata": {},
   "source": [
    "### История изменений\n",
    "* 0.5058725791429202 – начальное значение\n",
    "* 0.5120520537832914 – фильтрация по интерквартильному размаху"
   ]
  },
  {
   "cell_type": "markdown",
   "metadata": {},
   "source": [
    "# Экспорт тестовых данных"
   ]
  },
  {
   "cell_type": "code",
   "execution_count": 13,
   "metadata": {},
   "outputs": [],
   "source": [
    "votes_test = pd.read_csv(\"test_data.csv\")\n",
    "votes_quorum = filter_by_iqr(votes_test).groupby(\"itemId\")[['Xmin','Ymin', 'Xmax', 'Ymax']].mean().reset_index().round().astype(int)\n",
    "votes_quorum.columns = ['itemId', 'Xmin_true', 'Ymin_true', 'Xmax_true','Ymax_true']\n",
    "votes_quorum.to_csv('AIatsuk_predictions.csv', index=False, header=None)"
   ]
  }
 ],
 "metadata": {
  "kernelspec": {
   "display_name": "Python 3",
   "language": "python",
   "name": "python3"
  },
  "language_info": {
   "codemirror_mode": {
    "name": "ipython",
    "version": 3
   },
   "file_extension": ".py",
   "mimetype": "text/x-python",
   "name": "python",
   "nbconvert_exporter": "python",
   "pygments_lexer": "ipython3",
   "version": "3.7.3"
  }
 },
 "nbformat": 4,
 "nbformat_minor": 2
}
