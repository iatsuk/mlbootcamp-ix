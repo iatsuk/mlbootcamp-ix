{
 "cells": [
  {
   "cell_type": "code",
   "execution_count": 1,
   "metadata": {},
   "outputs": [],
   "source": [
    "import numpy as np\n",
    "import pandas as pd\n",
    "import matplotlib.pyplot as plt\n",
    "import seaborn as sns\n",
    "from sklearn.model_selection import train_test_split\n",
    "import warnings\n",
    "warnings.filterwarnings('ignore')\n",
    "%config IPCompleter.greedy=True\n",
    "%config InlineBackend.figure_format = 'jpeg'\n",
    "%matplotlib inline\n",
    "pd.options.display.max_columns = 100"
   ]
  },
  {
   "cell_type": "code",
   "execution_count": 2,
   "metadata": {},
   "outputs": [],
   "source": [
    "def area(box):\n",
    "    return (box[2] - box[0]) * (box[3] - box[1])\n",
    "\n",
    "\n",
    "def intersection_over_union(boxes):\n",
    "    assert(len(boxes) == 8)\n",
    "    boxA = boxes[:4].values\n",
    "    boxB = boxes[4:].values\n",
    "    \n",
    "    boxAArea = area(boxA)\n",
    "    boxBArea = area(boxB)\n",
    "    \n",
    "    if (boxAArea == 0 or boxBArea == 0):\n",
    "        return 0\n",
    "        \n",
    "    xA = max(boxA[0], boxB[0])\n",
    "    yA = max(boxA[1], boxB[1])\n",
    "    xB = min(boxA[2], boxB[2])\n",
    "    yB = min(boxA[3], boxB[3])\n",
    "\n",
    "    interArea = max(0, xB - xA) * max(0, yB - yA)\n",
    "\n",
    "    \n",
    "    iou = interArea / float(boxAArea + boxBArea - interArea)\n",
    "    return iou"
   ]
  },
  {
   "cell_type": "markdown",
   "metadata": {},
   "source": [
    "## Импорт данных"
   ]
  },
  {
   "cell_type": "code",
   "execution_count": 3,
   "metadata": {},
   "outputs": [],
   "source": [
    "votes = pd.read_csv(\"train_data.csv\")"
   ]
  },
  {
   "cell_type": "code",
   "execution_count": 4,
   "metadata": {},
   "outputs": [],
   "source": [
    "answers = pd.read_csv(\"train_answers.csv\")"
   ]
  },
  {
   "cell_type": "markdown",
   "metadata": {},
   "source": [
    "# Коррекция данных"
   ]
  },
  {
   "cell_type": "markdown",
   "metadata": {},
   "source": [
    "## Коррекция выбросов по интерквартильному размаху"
   ]
  },
  {
   "cell_type": "code",
   "execution_count": 5,
   "metadata": {},
   "outputs": [],
   "source": [
    "def iqr(qr1, qr3):\n",
    "    return (qr3 - qr1) * 1.5"
   ]
  },
  {
   "cell_type": "code",
   "execution_count": 6,
   "metadata": {},
   "outputs": [],
   "source": [
    "def calc_iqrs(votez):\n",
    "    q1_quantiles = votez.groupby('itemId')[['Xmin', 'Ymin', 'Xmax', 'Ymax']].quantile(q=[0.25]).reset_index().drop(columns=['level_1'])\n",
    "    q3_quantiles = votez.groupby('itemId')[['Xmin', 'Ymin', 'Xmax', 'Ymax']].quantile(q=[0.75]).reset_index().drop(columns=['level_1'])\n",
    "    q_merged = q1_quantiles.merge(q3_quantiles, on='itemId', suffixes=('_q1', '_q3'))\n",
    "    q_merged['Xmin_iqr'] = iqr(q_merged['Xmin_q1'], q_merged['Xmin_q3'])\n",
    "    q_merged['Ymin_iqr'] = iqr(q_merged['Ymin_q1'], q_merged['Ymin_q3'])\n",
    "    q_merged['Xmax_iqr'] = iqr(q_merged['Xmax_q1'], q_merged['Xmax_q3'])\n",
    "    q_merged['Ymax_iqr'] = iqr(q_merged['Ymax_q1'], q_merged['Ymax_q3'])\n",
    "    q_merged = q_merged.drop(columns=['Xmin_q1', 'Ymin_q1', 'Xmax_q1', 'Ymax_q1', 'Xmin_q3', 'Ymin_q3', 'Xmax_q3', 'Ymax_q3'])\n",
    "    return q_merged"
   ]
  },
  {
   "cell_type": "code",
   "execution_count": 7,
   "metadata": {},
   "outputs": [],
   "source": [
    "def calc_low_high_iqrs(votez, iqrs):\n",
    "    q2_quantiles = votez.groupby('itemId')[['Xmin', 'Ymin', 'Xmax', 'Ymax']].median().reset_index()\n",
    "    q2_quantiles.columns = q2_quantiles.columns.map(lambda x: str(x) + '_median' if x != 'itemId' else x)\n",
    "    q_filter = iqrs.merge(q2_quantiles, on='itemId')\n",
    "    q_filter['Xmin_low'] = q_filter['Xmin_median'] - q_filter['Xmin_iqr']\n",
    "    q_filter['Ymin_low'] = q_filter['Ymin_median'] - q_filter['Ymin_iqr']\n",
    "    q_filter['Xmax_low'] = q_filter['Xmax_median'] - q_filter['Xmax_iqr']\n",
    "    q_filter['Ymax_low'] = q_filter['Ymax_median'] - q_filter['Ymax_iqr']\n",
    "    q_filter['Xmin_high'] = q_filter['Xmin_median'] + q_filter['Xmin_iqr']\n",
    "    q_filter['Ymin_high'] = q_filter['Ymin_median'] + q_filter['Ymin_iqr']\n",
    "    q_filter['Xmax_high'] = q_filter['Xmax_median'] + q_filter['Xmax_iqr']\n",
    "    q_filter['Ymax_high'] = q_filter['Ymax_median'] + q_filter['Ymax_iqr']\n",
    "    q_filter = q_filter.drop(columns=['Xmin_iqr', 'Ymin_iqr', 'Xmax_iqr', 'Ymax_iqr'])\n",
    "    return q_filter"
   ]
  },
  {
   "cell_type": "code",
   "execution_count": 8,
   "metadata": {},
   "outputs": [],
   "source": [
    "def correct_by_iqr(votez):\n",
    "    # verify\n",
    "    imgs_before = len(votez['itemId'].unique())\n",
    "    # prepare\n",
    "    q_merged = calc_iqrs(votez)\n",
    "    q_filter = calc_low_high_iqrs(votez, q_merged)\n",
    "    votez_filtered = votez.merge(q_filter, on='itemId')\n",
    "    # fix Xmin\n",
    "    filter_Xmin = lambda df: (df['Xmin'] <= df['Xmin_low']) | (df['Xmin'] >= df['Xmin_high'])\n",
    "    votez_filtered.loc[filter_Xmin, 'Xmin'] = votez_filtered.loc[filter_Xmin, 'Xmin_median']\n",
    "    # fix Ymin\n",
    "    filter_Ymin = lambda df: (df['Ymin'] <= df['Ymin_low']) | (df['Ymin'] >= df['Ymin_high'])\n",
    "    votez_filtered.loc[filter_Ymin, 'Ymin'] = votez_filtered.loc[filter_Ymin, 'Ymin_median']\n",
    "    # fix Xmax\n",
    "    filter_Xmax = lambda df: (df['Xmax'] <= df['Xmax_low']) | (df['Xmax'] >= df['Xmax_high'])\n",
    "    votez_filtered.loc[filter_Xmax, 'Xmax'] = votez_filtered.loc[filter_Xmax, 'Xmax_median']\n",
    "    # fix Ymax\n",
    "    filter_Ymax = lambda df: (df['Ymax'] <= df['Ymax_low']) | (df['Ymax'] >= df['Ymax_high'])\n",
    "    votez_filtered.loc[filter_Xmin, 'Ymax'] = votez_filtered.loc[filter_Xmin, 'Ymax_median']\n",
    "    # drop unecessary columns\n",
    "    votez_filtered = votez_filtered.drop(columns=[\n",
    "        'Xmin_low', 'Ymin_low', 'Xmax_low', 'Ymax_low', \n",
    "        'Xmin_high', 'Ymin_high', 'Xmax_high', 'Ymax_high',\n",
    "        'Xmin_median', 'Ymin_median', 'Xmax_median', 'Ymax_median'\n",
    "    ])\n",
    "    # verify\n",
    "    imgs_after = len(votez_filtered['itemId'].unique())\n",
    "    if (imgs_before != imgs_after):\n",
    "        raise Exception(f'imgs_before: {imgs_before}, imgs_after: {imgs_after}')\n",
    "    # return result\n",
    "    return votez_filtered"
   ]
  },
  {
   "cell_type": "markdown",
   "metadata": {},
   "source": [
    "## Коррекция выбросов по среднему IoU пользователя"
   ]
  },
  {
   "cell_type": "code",
   "execution_count": 9,
   "metadata": {},
   "outputs": [],
   "source": [
    "def calc_iou(votez, answerz):\n",
    "    df_full = votez.merge(answerz, on=[\"itemId\"])\n",
    "    df_full[\"iou\"] = df_full[['Xmin','Ymin', 'Xmax', 'Ymax', 'Xmin_true',\\\n",
    "          'Ymin_true', 'Xmax_true','Ymax_true']].apply(intersection_over_union, axis=1)\n",
    "    medians = df_full.groupby('userId')[['iou']].mean().reset_index()\n",
    "    return medians"
   ]
  },
  {
   "cell_type": "code",
   "execution_count": 10,
   "metadata": {},
   "outputs": [],
   "source": [
    "def correct_by_iou(votez, userz_iou):\n",
    "    # оставим только наибольшие iou в каждом itemId\n",
    "    votes_with_user_iou = votez.merge(userz_iou, on='userId', how='left')\n",
    "    votes_with_user_iou['iou'] = votes_with_user_iou['iou'].fillna(0)\n",
    "    max_iou_per_item = votes_with_user_iou.groupby('itemId')[['iou']].max().reset_index()  # находим наибольшие user_iou на каждый item\n",
    "    votes_with_user_iou_and_max_item_iou =  votes_with_user_iou.merge(max_iou_per_item, on='itemId', suffixes=['', '_max'])\n",
    "    votes_with_max__item_iou = votes_with_user_iou_and_max_item_iou.loc[lambda df: np.abs(df['iou_max'] - df['iou']) < 0.1, :]  # оставляем только строки с наибольшим iou\n",
    "    votes_with_max__item_iou.drop(columns=['iou', 'iou_max'], inplace=True)\n",
    "    # находим средние\n",
    "    means = votes_with_max__item_iou.groupby('itemId')[['Xmin','Ymin', 'Xmax', 'Ymax']].mean().reset_index()\n",
    "    merged_iou_means = votes_with_user_iou.merge(means, on='itemId', suffixes=['', '_mean'])\n",
    "    fixed = merged_iou_means.copy()\n",
    "    # fix values\n",
    "    for col in ['Xmin','Ymin', 'Xmax', 'Ymax']:\n",
    "        fixed[col] = merged_iou_means[col]*merged_iou_means['iou'] + merged_iou_means[col + '_mean']*(1 - merged_iou_means['iou'])\n",
    "    # drop temp data\n",
    "    fixed = fixed.drop(columns=['iou', 'Xmin_mean', 'Ymin_mean', 'Xmax_mean', 'Ymax_mean'])\n",
    "    return fixed"
   ]
  },
  {
   "cell_type": "markdown",
   "metadata": {},
   "source": [
    "## Коррекция corner diff per user (CDU)"
   ]
  },
  {
   "cell_type": "code",
   "execution_count": 11,
   "metadata": {},
   "outputs": [],
   "source": [
    "def calc_cdu(votez, answerz):\n",
    "    df_full = votez.merge(answerz, on=[\"itemId\"])\n",
    "    for col in ['Xmin','Ymin', 'Xmax', 'Ymax']:\n",
    "        df_full[col + '_diff'] = df_full[col + '_true'] / df_full[col]\n",
    "        df_full.loc[lambda df: np.abs(df[col + '_diff'] - 1) > 0.5, col + '_diff'] = 1\n",
    "    diffs = df_full.groupby('userId')[['Xmin_diff','Ymin_diff', 'Xmax_diff', 'Ymax_diff']].median().reset_index()\n",
    "    return diffs"
   ]
  },
  {
   "cell_type": "code",
   "execution_count": 12,
   "metadata": {},
   "outputs": [],
   "source": [
    "def correct_by_cdu(votez, userz_cdu):\n",
    "    means = votez.groupby(\"itemId\")[['Xmin','Ymin', 'Xmax', 'Ymax']].mean().reset_index()\n",
    "    merged_diff = votez.merge(userz_cdu, on='userId', how='left')\n",
    "    merged_diff_means = merged_diff.merge(means, on='itemId', suffixes=['', '_mean'])\n",
    "    fixed = merged_diff_means.copy()\n",
    "    for col in ['Xmin','Ymin', 'Xmax', 'Ymax']:\n",
    "        merged_diff_means[[col + '_diff']] = merged_diff_means[[col + '_diff']].fillna(0)\n",
    "        fixed[col] = merged_diff_means[col]*merged_diff_means[col + '_diff']\n",
    "        fixed.drop(columns=[col + '_mean', col + '_diff'], inplace=True)\n",
    "    return fixed"
   ]
  },
  {
   "cell_type": "markdown",
   "metadata": {},
   "source": [
    "# Расчёт метрики Intersection over Union (IoU)"
   ]
  },
  {
   "cell_type": "code",
   "execution_count": 13,
   "metadata": {},
   "outputs": [],
   "source": [
    "def fit_models(votez, answerz):\n",
    "    userz_iou = calc_iou(votez, answerz)\n",
    "    userz_cdu = calc_cdu(votez, answerz)\n",
    "    return userz_iou, userz_cdu\n",
    "\n",
    "\n",
    "def transform_data(votez, userz_iou_model, userz_cdu_model):\n",
    "    #prepared = correct_by_cdu(votez.copy(), userz_cdu_model)\n",
    "    prepared = correct_by_iqr(votez.copy())\n",
    "    prepared = correct_by_iou(prepared.copy(), userz_iou_model)\n",
    "    return prepared"
   ]
  },
  {
   "cell_type": "code",
   "execution_count": 14,
   "metadata": {},
   "outputs": [],
   "source": [
    "# data split on train and test datasets\n",
    "train_answers, test_answers = train_test_split(answers, test_size=0.25, random_state=42)\n",
    "train_votes = votes.merge(train_answers[[\"itemId\"]], on='itemId')\n",
    "test_votes = votes.merge(test_answers[[\"itemId\"]], on='itemId')\n",
    "users_iou_model, users_cdu_model = fit_models(train_votes, train_answers)"
   ]
  },
  {
   "cell_type": "code",
   "execution_count": 15,
   "metadata": {},
   "outputs": [],
   "source": [
    "train_transformed = transform_data(train_votes, users_iou_model, users_cdu_model)\n",
    "test_transformed = transform_data(test_votes, users_iou_model, users_cdu_model)"
   ]
  },
  {
   "cell_type": "code",
   "execution_count": 16,
   "metadata": {},
   "outputs": [],
   "source": [
    "train_quorum = train_transformed.groupby(\"itemId\")[['Xmin','Ymin', 'Xmax', 'Ymax']].mean().reset_index()\n",
    "test_quorum = test_transformed.groupby(\"itemId\")[['Xmin','Ymin', 'Xmax', 'Ymax']].mean().reset_index()"
   ]
  },
  {
   "cell_type": "code",
   "execution_count": 17,
   "metadata": {},
   "outputs": [],
   "source": [
    "train_data = train_quorum.merge(train_answers, on=[\"itemId\"])\n",
    "test_data = test_quorum.merge(test_answers, on=[\"itemId\"])"
   ]
  },
  {
   "cell_type": "code",
   "execution_count": 18,
   "metadata": {},
   "outputs": [],
   "source": [
    "train_data[\"iou\"] = train_data[['Xmin','Ymin', 'Xmax', 'Ymax', 'Xmin_true', 'Ymin_true', 'Xmax_true','Ymax_true']].apply(intersection_over_union, axis=1)\n",
    "test_data[\"iou\"] = test_data[['Xmin','Ymin', 'Xmax', 'Ymax', 'Xmin_true', 'Ymin_true', 'Xmax_true','Ymax_true']].apply(intersection_over_union, axis=1)"
   ]
  },
  {
   "cell_type": "code",
   "execution_count": 19,
   "metadata": {},
   "outputs": [
    {
     "name": "stdout",
     "output_type": "stream",
     "text": [
      "0.5402426668546622|0.5165365841721786\n"
     ]
    }
   ],
   "source": [
    "print(str(train_data[\"iou\"].mean()) + '|' + str(test_data[\"iou\"].mean()))"
   ]
  },
  {
   "cell_type": "markdown",
   "metadata": {},
   "source": [
    "## История изменений\n",
    "| Train            | Test             | How               |\n",
    "|------------------|------------------|-------------------|\n",
    "|0.5644950152740668|0.3339338082780439| CDU               |\n",
    "|0.5402426668546622|0.5165365841721786| IQR -> IOU        |\n",
    "|0.5537928983528820|0.5097876622021996| IOU               |\n",
    "|0.5124386740459799|0.5108938312166782| IQR               |\n",
    "|0.5077808282151023|0.5001559177275294|                   |"
   ]
  },
  {
   "cell_type": "markdown",
   "metadata": {},
   "source": [
    "# Экспорт тестовых данных"
   ]
  },
  {
   "cell_type": "code",
   "execution_count": 20,
   "metadata": {},
   "outputs": [],
   "source": [
    "votes_test = pd.read_csv(\"test_data.csv\")\n",
    "users_iou_model, users_cdu_model = fit_models(votes, answers)\n",
    "votes_quorum = transform_data(votes_test, users_iou_model, users_cdu_model).groupby(\"itemId\")[['Xmin','Ymin', 'Xmax', 'Ymax']].mean().reset_index()  #.round().astype(int)\n",
    "votes_quorum.columns = ['itemId', 'Xmin_true', 'Ymin_true', 'Xmax_true','Ymax_true']\n",
    "votes_quorum.to_csv('AIatsuk_predictions.csv', index=False, header=None)"
   ]
  }
 ],
 "metadata": {
  "kernelspec": {
   "display_name": "Python 3",
   "language": "python",
   "name": "python3"
  },
  "language_info": {
   "codemirror_mode": {
    "name": "ipython",
    "version": 3
   },
   "file_extension": ".py",
   "mimetype": "text/x-python",
   "name": "python",
   "nbconvert_exporter": "python",
   "pygments_lexer": "ipython3",
   "version": "3.7.3"
  }
 },
 "nbformat": 4,
 "nbformat_minor": 2
}
