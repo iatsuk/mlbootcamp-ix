{
 "cells": [
  {
   "cell_type": "code",
   "execution_count": 42,
   "metadata": {},
   "outputs": [],
   "source": [
    "%matplotlib inline\n",
    "import matplotlib.pyplot as plt\n",
    "from sklearn.model_selection import train_test_split\n",
    "import numpy as np\n",
    "import pandas as pd"
   ]
  },
  {
   "cell_type": "code",
   "execution_count": 43,
   "metadata": {},
   "outputs": [],
   "source": [
    "def area(box):\n",
    "    return (box[2] - box[0]) * (box[3] - box[1])\n",
    "\n",
    "\n",
    "def intersection_over_union(boxes):\n",
    "    assert(len(boxes) == 8)\n",
    "    boxA = boxes[:4].values\n",
    "    boxB = boxes[4:].values\n",
    "    \n",
    "    boxAArea = area(boxA)\n",
    "    boxBArea = area(boxB)\n",
    "    \n",
    "    if (boxAArea == 0 or boxBArea == 0):\n",
    "        return 0\n",
    "        \n",
    "    xA = max(boxA[0], boxB[0])\n",
    "    yA = max(boxA[1], boxB[1])\n",
    "    xB = min(boxA[2], boxB[2])\n",
    "    yB = min(boxA[3], boxB[3])\n",
    "\n",
    "    interArea = max(0, xB - xA) * max(0, yB - yA)\n",
    "\n",
    "    \n",
    "    iou = interArea / float(boxAArea + boxBArea - interArea)\n",
    "    return iou"
   ]
  },
  {
   "cell_type": "markdown",
   "metadata": {},
   "source": [
    "## Импорт данных"
   ]
  },
  {
   "cell_type": "code",
   "execution_count": 44,
   "metadata": {},
   "outputs": [],
   "source": [
    "votes = pd.read_csv(\"train_data.csv\")"
   ]
  },
  {
   "cell_type": "code",
   "execution_count": 45,
   "metadata": {},
   "outputs": [],
   "source": [
    "answers = pd.read_csv(\"train_answers.csv\")"
   ]
  },
  {
   "cell_type": "markdown",
   "metadata": {},
   "source": [
    "## Фильтрация выбросов по интерквартильному размаху"
   ]
  },
  {
   "cell_type": "code",
   "execution_count": 46,
   "metadata": {},
   "outputs": [],
   "source": [
    "def iqr(qr1, qr3):\n",
    "    return (qr3 - qr1) * 1.5"
   ]
  },
  {
   "cell_type": "code",
   "execution_count": 48,
   "metadata": {},
   "outputs": [],
   "source": [
    "q1_quantiles = votes.groupby('itemId')[['Xmin', 'Ymin', 'Xmax', 'Ymax']].quantile(q=[0.25], interpolation='nearest').reset_index().drop(columns=['level_1'])\n",
    "q3_quantiles = votes.groupby('itemId')[['Xmin', 'Ymin', 'Xmax', 'Ymax']].quantile(q=[0.75], interpolation='nearest').reset_index().drop(columns=['level_1'])\n",
    "q_merged = q1_quantiles.merge(q3_quantiles, on='itemId', suffixes=('_q1', '_q3'))\n",
    "q_merged['Xmin_iqr'] = iqr(q_merged['Xmin_q1'], q_merged['Xmin_q3'])\n",
    "q_merged['Ymin_iqr'] = iqr(q_merged['Ymin_q1'], q_merged['Ymin_q3'])\n",
    "q_merged['Xmax_iqr'] = iqr(q_merged['Xmax_q1'], q_merged['Xmax_q3'])\n",
    "q_merged['Ymax_iqr'] = iqr(q_merged['Ymax_q1'], q_merged['Ymax_q3'])\n",
    "q_merged = q_merged.drop(columns=['Xmin_q1', 'Ymin_q1', 'Xmax_q1', 'Ymax_q1', 'Xmin_q3', 'Ymin_q3', 'Xmax_q3', 'Ymax_q3'])"
   ]
  },
  {
   "cell_type": "code",
   "execution_count": 50,
   "metadata": {},
   "outputs": [],
   "source": [
    "q2_quantiles = votes.groupby('itemId')[['Xmin', 'Ymin', 'Xmax', 'Ymax']].median().reset_index()\n",
    "q_filter = q_merged.merge(q2_quantiles, on='itemId')\n",
    "q_filter['Xmin_low'] = q_filter['Xmin'] - q_filter['Xmin_iqr']\n",
    "q_filter['Ymin_low'] = q_filter['Ymin'] - q_filter['Ymin_iqr']\n",
    "q_filter['Xmax_low'] = q_filter['Xmax'] - q_filter['Xmax_iqr']\n",
    "q_filter['Ymax_low'] = q_filter['Ymax'] - q_filter['Ymax_iqr']\n",
    "q_filter['Xmin_high'] = q_filter['Xmin'] + q_filter['Xmin_iqr']\n",
    "q_filter['Ymin_high'] = q_filter['Ymin'] + q_filter['Ymin_iqr']\n",
    "q_filter['Xmax_high'] = q_filter['Xmax'] + q_filter['Xmax_iqr']\n",
    "q_filter['Ymax_high'] = q_filter['Ymax'] + q_filter['Ymax_iqr']\n",
    "q_filter = q_filter.drop(columns=['Xmin', 'Ymin', 'Xmax', 'Ymax', 'Xmin_iqr', 'Ymin_iqr', 'Xmax_iqr', 'Ymax_iqr'])"
   ]
  },
  {
   "cell_type": "code",
   "execution_count": 51,
   "metadata": {},
   "outputs": [],
   "source": [
    "filter_func = lambda df: (\n",
    "    (df['Xmin'] >= df['Xmin_low']) & (df['Xmin'] <= df['Xmin_high']) &\n",
    "    (df['Ymin'] >= df['Ymin_low']) & (df['Ymin'] <= df['Ymin_high']) &\n",
    "    (df['Xmax'] >= df['Xmax_low']) & (df['Xmax'] <= df['Xmax_high']) &\n",
    "    (df['Ymax'] >= df['Ymax_low']) & (df['Ymax'] <= df['Ymax_high'])\n",
    ")\n",
    "votes_filtered = votes.merge(q_filter, on='itemId').loc[lambda df: filter_func(df), :].drop(columns=['Xmin_low', 'Ymin_low', 'Xmax_low', 'Ymax_low', 'Xmin_high', 'Ymin_high', 'Xmax_high', 'Ymax_high'])"
   ]
  },
  {
   "cell_type": "markdown",
   "metadata": {},
   "source": [
    "## Расчёт метрики Intersection over Union (IoU)"
   ]
  },
  {
   "cell_type": "code",
   "execution_count": 52,
   "metadata": {},
   "outputs": [],
   "source": [
    "quorum = votes.groupby(\"itemId\")[['Xmin','Ymin', 'Xmax', 'Ymax']].mean().reset_index()"
   ]
  },
  {
   "cell_type": "code",
   "execution_count": 53,
   "metadata": {},
   "outputs": [],
   "source": [
    "data = quorum.merge(answers, on=[\"itemId\"])"
   ]
  },
  {
   "cell_type": "code",
   "execution_count": 54,
   "metadata": {},
   "outputs": [],
   "source": [
    "data[\"iou\"] = data[['Xmin','Ymin', 'Xmax', 'Ymax', 'Xmin_true',\\\n",
    "      'Ymin_true', 'Xmax_true','Ymax_true']].apply(intersection_over_union, axis=1)"
   ]
  },
  {
   "cell_type": "code",
   "execution_count": 55,
   "metadata": {},
   "outputs": [
    {
     "data": {
      "text/plain": [
       "0.5058725791429202"
      ]
     },
     "execution_count": 55,
     "metadata": {},
     "output_type": "execute_result"
    }
   ],
   "source": [
    "data[\"iou\"].mean()"
   ]
  },
  {
   "cell_type": "markdown",
   "metadata": {},
   "source": [
    "### История изменений\n",
    "* 0.5058725791429202 – начальное значение\n",
    "* 0.5129929061634199 – фильтрация по интерквартильному размаху"
   ]
  },
  {
   "cell_type": "code",
   "execution_count": null,
   "metadata": {},
   "outputs": [],
   "source": []
  }
 ],
 "metadata": {
  "kernelspec": {
   "display_name": "Python 3",
   "language": "python",
   "name": "python3"
  },
  "language_info": {
   "codemirror_mode": {
    "name": "ipython",
    "version": 3
   },
   "file_extension": ".py",
   "mimetype": "text/x-python",
   "name": "python",
   "nbconvert_exporter": "python",
   "pygments_lexer": "ipython3",
   "version": "3.7.3"
  }
 },
 "nbformat": 4,
 "nbformat_minor": 2
}
